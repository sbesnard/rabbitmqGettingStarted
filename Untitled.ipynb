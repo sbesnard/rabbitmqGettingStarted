{
 "cells": [
  {
   "cell_type": "markdown",
   "id": "7f04815c",
   "metadata": {},
   "source": [
    "# Essai de séparation des phrases\n",
    "\n",
    "Objectif :\n",
    "\n",
    "Itérer sur les différences entre deux cha$înes de caractères.\n",
    "\n",
    "## utilisation de Difflib\n",
    "\n"
   ]
  },
  {
   "cell_type": "code",
   "execution_count": 37,
   "id": "1121ad7b",
   "metadata": {},
   "outputs": [],
   "source": [
    "original = \"Le cheval bleu se prénomme Stan !\"\n",
    "edited = \"Le chevall rouge se prénomme Stanley et n'a pas de dents !\"\n"
   ]
  },
  {
   "cell_type": "code",
   "execution_count": 38,
   "id": "9b812aa5",
   "metadata": {},
   "outputs": [
    {
     "name": "stdout",
     "output_type": "stream",
     "text": [
      "['  Le',\n",
      " '- cheval',\n",
      " '+ chevall',\n",
      " '?       +\\n',\n",
      " '- bleu',\n",
      " '+ rouge',\n",
      " '  se',\n",
      " '  prénomme',\n",
      " '- Stan',\n",
      " '+ Stanley',\n",
      " '+ et',\n",
      " \"+ n'a\",\n",
      " '+ pas',\n",
      " '+ de',\n",
      " '+ dents',\n",
      " '  !']\n"
     ]
    }
   ],
   "source": [
    "import difflib\n",
    "from pprint import pprint\n",
    "\n",
    "# initiate the Differ object\n",
    "d = difflib.Differ()\n",
    "\n",
    "# calculate the difference between the two texts\n",
    "diff = d.compare(original.split(' '), edited.split(' '))\n",
    "\n",
    "result = list(diff)\n",
    "# output the result\n",
    "pprint (result)"
   ]
  },
  {
   "cell_type": "code",
   "execution_count": 39,
   "id": "cd80b90d",
   "metadata": {},
   "outputs": [
    {
     "name": "stdout",
     "output_type": "stream",
     "text": [
      "['  Le', '- cheval', '+ chevall', '?       +\\n', '- bleu', '+ rouge', '  se', '  prénomme', '- Stan', '+ Stanley', '+ et', \"+ n'a\", '+ pas', '+ de', '+ dents', '  !']\n"
     ]
    }
   ],
   "source": [
    "print([d for d in result])"
   ]
  },
  {
   "cell_type": "markdown",
   "id": "26fabdb7",
   "metadata": {},
   "source": [
    "Rassemblons les possibilités dans des listes à l'emplacement où ils se trouvent..."
   ]
  },
  {
   "cell_type": "code",
   "execution_count": 40,
   "id": "2bd6f518",
   "metadata": {},
   "outputs": [
    {
     "name": "stdout",
     "output_type": "stream",
     "text": [
      "['Le', ['- cheval', '+ chevall'], ['- bleu', '+ rouge'], 'se', 'prénomme', ['- Stan', '+ Stanley'], ['+ et'], [\"+ n'a\"], ['+ pas'], ['+ de'], ['+ dents'], '!']\n"
     ]
    }
   ],
   "source": [
    "words = []\n",
    "index = -1\n",
    "is_new_word = False\n",
    "found_token = []\n",
    "\n",
    "for seq in result:\n",
    "    if (seq.startswith('  ')):\n",
    "        \n",
    "        words.append(seq.strip())\n",
    "        index+=1\n",
    "        is_new_word = True\n",
    "    if (seq.startswith('+ ')):\n",
    "        if '+' in found_token :\n",
    "            is_new_word = True\n",
    "            found_token=['+']\n",
    "        else :\n",
    "            found_token.append('+')\n",
    "            \n",
    "        if is_new_word:\n",
    "            is_new_word = False\n",
    "            words.append([seq])\n",
    "            index+=1\n",
    "        else :\n",
    "            words[index].append(seq)\n",
    "    if (seq.startswith('- ')):\n",
    "        if '-' in found_token :\n",
    "            is_new_word = True\n",
    "            found_token=['-']\n",
    "        else :\n",
    "            found_token.append('-')\n",
    "            \n",
    "        if is_new_word:\n",
    "            is_new_word = False\n",
    "            words.append([seq])\n",
    "            index+=1\n",
    "        else :\n",
    "            words[index].append(seq)\n",
    "print(words)"
   ]
  },
  {
   "cell_type": "markdown",
   "id": "991af3c7",
   "metadata": {},
   "source": [
    "__post processing__ :\n",
    "\n",
    "On réunit les mots successifs qui sont de même nature"
   ]
  },
  {
   "cell_type": "code",
   "execution_count": 59,
   "id": "31735fee",
   "metadata": {},
   "outputs": [
    {
     "name": "stdout",
     "output_type": "stream",
     "text": [
      "['Le',\n",
      " ['- cheval', '+ chevall'],\n",
      " ['- bleu', '+ rouge'],\n",
      " 'se',\n",
      " 'prénomme',\n",
      " ['- Stan', '+ Stanley'],\n",
      " \"+ et n'a pas de dents\",\n",
      " '!']\n"
     ]
    }
   ],
   "source": [
    "final = []\n",
    "\n",
    "temp_string = ''\n",
    "token = ''\n",
    "for word in words :\n",
    "    if not isinstance(word, list):\n",
    "        token = ''\n",
    "        if temp_string != '':\n",
    "            final.append(temp_string)\n",
    "        final.append(word)\n",
    "    else:\n",
    "        if len(word) == 1 :\n",
    "            if temp_string == '':\n",
    "                temp_string = word[0]\n",
    "                token = word[0][0:1]\n",
    "            else:\n",
    "                if  word[0][0:1] == token :\n",
    "                    temp_string+=' '+word[0][2:]\n",
    "                else:\n",
    "                    final.append(temp_string)\n",
    "                    temp_string = word[0]\n",
    "                    token = word[0][0:1]\n",
    "        else:\n",
    "            final.append(word)\n",
    "pprint(final)"
   ]
  },
  {
   "cell_type": "markdown",
   "id": "71157a1b",
   "metadata": {},
   "source": [
    "On peut maintenant s'amuser à combiner toutes les possibilités pour les comparer à la _vérité_"
   ]
  },
  {
   "cell_type": "code",
   "execution_count": null,
   "id": "46195a94",
   "metadata": {},
   "outputs": [],
   "source": []
  }
 ],
 "metadata": {
  "kernelspec": {
   "display_name": "Python 3 (ipykernel)",
   "language": "python",
   "name": "python3"
  },
  "language_info": {
   "codemirror_mode": {
    "name": "ipython",
    "version": 3
   },
   "file_extension": ".py",
   "mimetype": "text/x-python",
   "name": "python",
   "nbconvert_exporter": "python",
   "pygments_lexer": "ipython3",
   "version": "3.8.12"
  }
 },
 "nbformat": 4,
 "nbformat_minor": 5
}
