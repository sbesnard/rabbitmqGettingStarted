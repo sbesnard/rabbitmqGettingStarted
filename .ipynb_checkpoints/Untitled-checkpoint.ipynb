{
 "cells": [
  {
   "cell_type": "markdown",
   "id": "f483ea6c",
   "metadata": {},
   "source": [
    "# Essai de séparation des phrases\n",
    "\n",
    "Objectif :\n",
    "\n",
    "Itérer sur les différences entre deux cha$înes de caractères.\n",
    "\n",
    "## utilisation de Difflib\n",
    "\n"
   ]
  },
  {
   "cell_type": "code",
   "execution_count": 2,
   "id": "d855be7c",
   "metadata": {},
   "outputs": [],
   "source": [
    "original = \"Le cheval bleu se prénomme Stan !\"\n",
    "edited = \"Le chevall rouge se prénomme Stanley !\"\n"
   ]
  },
  {
   "cell_type": "code",
   "execution_count": 23,
   "id": "e895bb31",
   "metadata": {},
   "outputs": [
    {
     "name": "stdout",
     "output_type": "stream",
     "text": [
      "['  Le',\n",
      " '- cheval',\n",
      " '+ chevall',\n",
      " '?       +\\n',\n",
      " '- bleu',\n",
      " '+ rouge',\n",
      " '  se',\n",
      " '  prénomme',\n",
      " '- Stan',\n",
      " '+ Stanley',\n",
      " '  !']\n"
     ]
    }
   ],
   "source": [
    "import difflib\n",
    "from pprint import pprint\n",
    "\n",
    "# initiate the Differ object\n",
    "d = difflib.Differ()\n",
    "\n",
    "# calculate the difference between the two texts\n",
    "diff = d.compare(original.split(' '), edited.split(' '))\n",
    "\n",
    "result = list(diff)\n",
    "# output the result\n",
    "pprint (result)"
   ]
  },
  {
   "cell_type": "code",
   "execution_count": 26,
   "id": "f28f213f",
   "metadata": {},
   "outputs": [
    {
     "name": "stdout",
     "output_type": "stream",
     "text": [
      "['  Le', '- cheval', '+ chevall', '?       +\\n', '- bleu', '+ rouge', '  se', '  prénomme', '- Stan', '+ Stanley', '  !']\n"
     ]
    }
   ],
   "source": [
    "print([d for d in result])"
   ]
  },
  {
   "cell_type": "code",
   "execution_count": 28,
   "id": "2aadf583",
   "metadata": {},
   "outputs": [
    {
     "ename": "IndexError",
     "evalue": "list assignment index out of range",
     "output_type": "error",
     "traceback": [
      "\u001b[0;31m---------------------------------------------------------------------------\u001b[0m",
      "\u001b[0;31mIndexError\u001b[0m                                Traceback (most recent call last)",
      "Input \u001b[0;32mIn [28]\u001b[0m, in \u001b[0;36m<module>\u001b[0;34m\u001b[0m\n\u001b[1;32m      5\u001b[0m \u001b[38;5;28;01mfor\u001b[39;00m seq \u001b[38;5;129;01min\u001b[39;00m result:\n\u001b[1;32m      6\u001b[0m     \u001b[38;5;28;01mif\u001b[39;00m (seq\u001b[38;5;241m.\u001b[39mstartswith(\u001b[38;5;124m'\u001b[39m\u001b[38;5;124m  \u001b[39m\u001b[38;5;124m'\u001b[39m)):\n\u001b[0;32m----> 8\u001b[0m         words[\u001b[38;5;241m+\u001b[39m\u001b[38;5;241m+\u001b[39mindex] \u001b[38;5;241m=\u001b[39m seq\u001b[38;5;241m.\u001b[39mstrip()\n\u001b[1;32m      9\u001b[0m         is_new_word \u001b[38;5;241m=\u001b[39m \u001b[38;5;28;01mTrue\u001b[39;00m\n\u001b[1;32m     10\u001b[0m     \u001b[38;5;28;01mif\u001b[39;00m (seq\u001b[38;5;241m.\u001b[39mstartswith(\u001b[38;5;124m'\u001b[39m\u001b[38;5;124m+ \u001b[39m\u001b[38;5;124m'\u001b[39m)):\n",
      "\u001b[0;31mIndexError\u001b[0m: list assignment index out of range"
     ]
    }
   ],
   "source": [
    "words = []\n",
    "index = -1\n",
    "is_new_word = False\n",
    "\n",
    "for seq in result:\n",
    "    if (seq.startswith('  ')):\n",
    "        \n",
    "        words.append(seq.strip())\n",
    "        index++\n",
    "        is_new_word = True\n",
    "    if (seq.startswith('+ ')):\n",
    "        if is_new_word:\n",
    "            is_new_word = False\n",
    "            words[++index] = [seq]\n",
    "        else :\n",
    "            words[++index].append(seq)\n",
    "    if (seq.startswith('- ')):\n",
    "        if is_new_word:\n",
    "            is_new_word = False\n",
    "            words[++index] = [seq]\n",
    "        else :\n",
    "            words[++index].append(seq)\n"
   ]
  },
  {
   "cell_type": "code",
   "execution_count": null,
   "id": "a824813e",
   "metadata": {},
   "outputs": [],
   "source": []
  }
 ],
 "metadata": {
  "kernelspec": {
   "display_name": "Python 3 (ipykernel)",
   "language": "python",
   "name": "python3"
  },
  "language_info": {
   "codemirror_mode": {
    "name": "ipython",
    "version": 3
   },
   "file_extension": ".py",
   "mimetype": "text/x-python",
   "name": "python",
   "nbconvert_exporter": "python",
   "pygments_lexer": "ipython3",
   "version": "3.8.12"
  }
 },
 "nbformat": 4,
 "nbformat_minor": 5
}
